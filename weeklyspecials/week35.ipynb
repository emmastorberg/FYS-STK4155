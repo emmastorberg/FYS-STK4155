{
 "cells": [
  {
   "cell_type": "markdown",
   "metadata": {},
   "source": [
    "# Weekly Special 35"
   ]
  },
  {
   "cell_type": "markdown",
   "metadata": {},
   "source": [
    "## Exercise 1"
   ]
  },
  {
   "cell_type": "markdown",
   "metadata": {},
   "source": [
    "First, we are showing that $\\frac{\\partial \\mathbf{a}^T \\mathbf{x}}{\\partial \\mathbf{x}} = \\mathbf{a}^T$:"
   ]
  },
  {
   "cell_type": "markdown",
   "metadata": {},
   "source": [
    "$$\\frac{\\partial \\mathbf{a}^T \\mathbf{x}}{\\partial \\mathbf{x}} = \\frac{\\partial }{\\partial \\mathbf{x}}(\\sum_{i=0}^{n-1}a_ix_i) = \\sum_{i=0}^{n-1}\\frac{\\partial }{\\partial \\mathbf{x}}(a_ix_i) = \\sum_{i=0}^{n-1}a_i\\mathbf{e}_i^T = \\mathbf{a}^T$$"
   ]
  },
  {
   "cell_type": "markdown",
   "metadata": {},
   "source": [
    "where $\\mathbf{e}_i^T$ is a transposed unit vector with 1 in its $i$th entry. We see that the equality holds. "
   ]
  },
  {
   "cell_type": "markdown",
   "metadata": {},
   "source": [
    "Next up, we want to show that $\\frac{\\partial \\mathbf{a}^T \\mathbf{A} \\mathbf{a}}{\\partial \\mathbf{a}} = \\mathbf{a}^T(\\mathbf{A} + \\mathbf{A}^T)$. See calculation below:"
   ]
  },
  {
   "cell_type": "markdown",
   "metadata": {},
   "source": [
    "$$\\begin{align*}\n",
    "\\frac{\\partial \\mathbf{a}^T \\mathbf{A} \\mathbf{a}}{\\partial \\mathbf{a}} &= \\frac{\\partial}{\\partial \\mathbf{a}}(\\mathbf{a}^T\\sum_{i=0}^{n-1}(\\sum_{j=0}^{n-1}A_{ij}a_{j})) \\\\ &= \\frac{\\partial}{\\partial \\mathbf{a}}(\\sum_{i=0}^{n-1}\\sum_{j=0}^{n-1}a_iA_{ij}a_{j}) \\\\ \n",
    "\n",
    "&= \\frac{\\partial}{\\partial \\mathbf{a}}(\\sum_{i=0}^{n-1}\\sum_{j=0}^{n-1}a_ia_jA_{ij}) \\\\\n",
    "\n",
    "&= \\sum_{i=0}^{n-1}\\sum_{j=0}^{n-1}(a_iA_{ij}\\mathbf{e}_j + a_jA_{ij}\\mathbf{e}_i) \\\\\n",
    "\n",
    "&= \\sum_{i=0}^{n-1}\\sum_{j=0}^{n-1}(a_i(A_{ij}+A_{ji})\\mathbf{e}_j) \\\\\n",
    "\n",
    "&= \\mathbf{a}^T(\\mathbf{A} + \\mathbf{A}^T) \n",
    "\\end{align*}$$"
   ]
  },
  {
   "cell_type": "markdown",
   "metadata": {},
   "source": [
    "Now we want to show that $\\frac{\\partial (\\mathbf{x} - \\mathbf{A}\\mathbf{s})^T(\\mathbf{x} - \\mathbf{A}\\mathbf{s})}{\\partial \\mathbf{s}} = -2(\\mathbf{x} - \\mathbf{A}\\mathbf{s})^T\\mathbf{A}$."
   ]
  },
  {
   "cell_type": "markdown",
   "metadata": {},
   "source": [
    "$$ \\begin{align*}\n",
    "\n",
    "\\frac{\\partial (\\mathbf{x} - \\mathbf{A}\\mathbf{s})^T(\\mathbf{x} - \\mathbf{A}\\mathbf{s})}{\\partial \\mathbf{s}} &= \\frac{\\partial}{\\partial \\mathbf{s}} \\sum_{i=0}^{n-1} (x_i - \\sum_{j=0}^{n-1}A_{ij}s_j)^2 \\\\\n",
    "\n",
    "&= -2\\sum_{i=0}^{n-1} (x_i\\mathbf e_i^T - \\sum_{j=0}^{n-1}A_{ij}s_j \\mathbf e_i^T) \\mathbf A \\\\\n",
    "\n",
    "&= -2(\\mathbf{x} - \\mathbf{A}\\mathbf{s})^T\\mathbf{A}\n",
    "\n",
    "\\end{align*}$$"
   ]
  },
  {
   "cell_type": "markdown",
   "metadata": {},
   "source": [
    "Finally, the double derivative:"
   ]
  },
  {
   "cell_type": "markdown",
   "metadata": {},
   "source": [
    "$$\\begin{align*}\n",
    "\n",
    "\\frac{\\partial^2 (\\mathbf{x} - \\mathbf{A}\\mathbf{s})^T(\\mathbf{x} - \\mathbf{A} \\mathbf s)}{\\partial \\mathbf{s}^2} &= \\frac{\\partial}{\\partial \\mathbf s}( -2(\\mathbf{x} - \\mathbf{A}\\mathbf{s})^T\\mathbf{A}) \\\\\n",
    "\n",
    "&= -2\\frac{\\partial}{\\partial \\mathbf s}(\\mathbf{x}^T \\mathbf A - \\mathbf{s}^T\\mathbf A^T\\mathbf{A}) \\\\\n",
    "\n",
    "&=  2\\frac{\\partial}{\\partial \\mathbf s}(\\mathbf{s}^T\\mathbf A^T\\mathbf{A}) \\\\\n",
    "\n",
    "&= 2 \\mathbf A^T \\mathbf A\n",
    "\n",
    "\\end{align*}$$"
   ]
  },
  {
   "cell_type": "markdown",
   "metadata": {},
   "source": [
    "## Exercise 2"
   ]
  },
  {
   "cell_type": "code",
   "execution_count": 409,
   "metadata": {},
   "outputs": [],
   "source": [
    "# Importing various packages\n",
    "import numpy as np\n",
    "from sklearn.preprocessing import PolynomialFeatures\n",
    "from sklearn.linear_model import LinearRegression\n",
    "from sklearn.metrics import mean_squared_error, r2_score\n",
    "import matplotlib.pyplot as plt"
   ]
  },
  {
   "cell_type": "code",
   "execution_count": 410,
   "metadata": {},
   "outputs": [],
   "source": [
    "# Setting up x and y\n",
    "x = np.random.rand(100,1)\n",
    "y = 2.0 + 5*x*x + 0.1*np.random.randn(100,1)"
   ]
  },
  {
   "cell_type": "markdown",
   "metadata": {},
   "source": [
    "First, we will manually find the optimal coefficients of the polynomial by following the steps below:"
   ]
  },
  {
   "cell_type": "code",
   "execution_count": 411,
   "metadata": {},
   "outputs": [
    {
     "name": "stdout",
     "output_type": "stream",
     "text": [
      "0.009981737538842322\n"
     ]
    }
   ],
   "source": [
    "# Setting up X (model dependence)\n",
    "X_manual = np.array([[1, x_, x_**2] for x_ in x[:,0]])\n",
    "\n",
    "# Calculating beta_hat (optimal set of parameters to minimize MSE in this case) and y_tilde (predictions)\n",
    "beta_hat = np.linalg.inv(X_manual.T @ X_manual) @ X_manual.T @ y\n",
    "y_tilde_manual = X_manual @ beta_hat\n",
    "\n",
    "# Computing MSE\n",
    "MSE_manual = 0.01 * (y - y_tilde_manual).T @ (y - y_tilde_manual)\n",
    "\n",
    "print(MSE_manual[0,0])"
   ]
  },
  {
   "cell_type": "markdown",
   "metadata": {},
   "source": [
    "This looks great! Now we will use scikit-learn and see if we can make this a little easier for ourselves. "
   ]
  },
  {
   "cell_type": "code",
   "execution_count": 412,
   "metadata": {},
   "outputs": [
    {
     "name": "stdout",
     "output_type": "stream",
     "text": [
      "0.009981737538842333\n",
      "0.9958734343128344\n"
     ]
    }
   ],
   "source": [
    "# Setting up X\n",
    "poly2 = PolynomialFeatures(degree=2)\n",
    "X_sklearn = poly2.fit_transform(x)\n",
    "\n",
    "# Finding coefficients of best fit and predicting y-values with these\n",
    "clf2 = LinearRegression(fit_intercept=False)\n",
    "clf2.fit(X_sklearn,y)\n",
    "\n",
    "y_tilde_sklearn = clf2.predict(X_sklearn)\n",
    "\n",
    "# Computing MSE\n",
    "MSE_sklearn = mean_squared_error(y, y_tilde_sklearn)\n",
    "\n",
    "# Computing variance score\n",
    "variance_score_sklearn = r2_score(y, y_tilde_sklearn)\n",
    "\n",
    "print(MSE_sklearn)\n",
    "print(variance_score_sklearn)"
   ]
  },
  {
   "cell_type": "markdown",
   "metadata": {},
   "source": [
    "This is also looking good. When we compare our manually computed MSE with the one from sklearn, we see they are very close in value, indicating similar implementations. They are also close to 0, which is desirable because it means the error in our data (deviation of the predicted values vs what we actually have) is low. The variance score is also very close to 1, indicating an almost perfect prediction.\n",
    "\n",
    "As we might expect, varying the coefficient in front of our random noise term has an effect. It was originally at 0.1, which is what I described above and that we can still see the results of when we run the code. I tried changing it marginally, to 0.2 and 0.4, which gave us a lower variance score (more noise in the data set) and a higher MSE. Increasing it more, to 2 or 5 or even 10, almost completely destroyed the data, with a coefficient of 10 giving us a variance score of almost 0 and MSE near 100."
   ]
  },
  {
   "cell_type": "markdown",
   "metadata": {},
   "source": [
    "## Exercise 3"
   ]
  },
  {
   "cell_type": "code",
   "execution_count": 413,
   "metadata": {},
   "outputs": [],
   "source": [
    "from sklearn.model_selection import train_test_split\n",
    "\n",
    "np.random.seed()\n",
    "n = 250\n",
    "\n",
    "# Making data set\n",
    "x = np.linspace(-3, 3, n).reshape(-1, 1)\n",
    "y = np.exp(-x**2) + 1.5 * np.exp(-(x-2)**2)+ np.random.normal(0, 0.1, x.shape)"
   ]
  },
  {
   "cell_type": "code",
   "execution_count": 414,
   "metadata": {},
   "outputs": [],
   "source": [
    "# Creating design matrix of a fifth-order polynomial\n",
    "X = np.zeros((len(x),6))\n",
    "X[:,0] = 1.0\n",
    "X[:,1] = x[:,0]\n",
    "X[:,2] = x[:,0]**2\n",
    "X[:,3] = x[:,0]**3\n",
    "X[:,4] = x[:,0]**4\n",
    "X[:,5] = x[:,0]**5\n",
    "\n",
    "X_train, X_test, y_train, y_test = train_test_split(X, y, test_size=0.2)"
   ]
  },
  {
   "cell_type": "code",
   "execution_count": 415,
   "metadata": {},
   "outputs": [
    {
     "name": "stdout",
     "output_type": "stream",
     "text": [
      "0.02288457095370593\n",
      "0.021676087638476282\n"
     ]
    }
   ],
   "source": [
    "beta_hat = np.linalg.inv(X_train.T @ X_train) @ X_train.T @ y_train\n",
    "y_tilde_train = X_train @ beta_hat\n",
    "y_tilde_test = X_test @ beta_hat\n",
    "\n",
    "# MSE of training data\n",
    "MSE_train = mean_squared_error(y_train, y_tilde_train)\n",
    "\n",
    "# MSE of testing data\n",
    "MSE_test = mean_squared_error(y_test, y_tilde_test)\n",
    "\n",
    "print(MSE_train)\n",
    "print(MSE_test)"
   ]
  },
  {
   "cell_type": "markdown",
   "metadata": {},
   "source": [
    "Now we would like to expand this to a polynomial of degree 15."
   ]
  },
  {
   "cell_type": "code",
   "execution_count": 416,
   "metadata": {},
   "outputs": [
    {
     "data": {
      "image/png": "[encoded data removed]",
      "text/plain": [
       "<Figure size 640x480 with 1 Axes>"
      ]
     },
     "metadata": {},
     "output_type": "display_data"
    }
   ],
   "source": [
    "# Implementing the code above as a function\n",
    "\n",
    "def make_model(deg, test_size=0.2):\n",
    "    X = np.zeros((len(x),deg+1))\n",
    "\n",
    "    for i in range(deg+1):\n",
    "        X[:,i] = x[:,0]**i\n",
    "\n",
    "    X_train, X_test, y_train, y_test = train_test_split(X, y, test_size=test_size)\n",
    "\n",
    "    beta_hat = np.linalg.inv(X_train.T @ X_train) @ X_train.T @ y_train\n",
    "    y_tilde_train = X_train @ beta_hat\n",
    "    y_tilde_test = X_test @ beta_hat\n",
    "\n",
    "    # MSE of training data\n",
    "    MSE_train = mean_squared_error(y_train, y_tilde_train)\n",
    "\n",
    "    # MSE of testing data\n",
    "    MSE_test = mean_squared_error(y_test, y_tilde_test)\n",
    "\n",
    "    return MSE_train, MSE_test\n",
    "\n",
    "# Setting up helper variables and arrays\n",
    "max_degree = 15\n",
    "poly_degree = range(1, max_degree+1)\n",
    "\n",
    "train_error = np.zeros(max_degree)\n",
    "test_error = np.zeros(max_degree)\n",
    "\n",
    "# Gathering data from make_model function in arrays\n",
    "for degree in poly_degree:\n",
    "    MSE_train, MSE_test = make_model(degree)\n",
    "\n",
    "    train_error[degree-1] = MSE_train\n",
    "    test_error[degree-1] = MSE_test\n",
    "\n",
    "# Plotting\n",
    "plt.plot(poly_degree, train_error, label=\"MSE of Training Data\", color=\"black\")\n",
    "plt.plot(poly_degree, test_error, label=\"MSE of Testing Data\", color=\"#DF55EF\")\n",
    "plt.title(f\"MSE of Datasets with {n} Data Points\")\n",
    "plt.xlabel(\"Polynomial Degree\")\n",
    "plt.ylabel(\"MSE\")\n",
    "plt.legend()\n",
    "plt.show()"
   ]
  },
  {
   "cell_type": "markdown",
   "metadata": {},
   "source": [
    "My figure does not look exactly like that of Hastie et al, and I'm not quite sure why that is. Upon multiple trials, my MSE graph does not seem to have a consistent minimum, and it looks like the trend is that higher polynomial degrees yield optimal MSEs. However, I understand that this can lead to overfitting of the training data, which in theory should give me a worse MSE of the testing data as the degree gets higher."
   ]
  }
 ],
 "metadata": {
  "kernelspec": {
   "display_name": "Python 3",
   "language": "python",
   "name": "python3"
  },
  "language_info": {
   "codemirror_mode": {
    "name": "ipython",
    "version": 3
   },
   "file_extension": ".py",
   "mimetype": "text/x-python",
   "name": "python",
   "nbconvert_exporter": "python",
   "pygments_lexer": "ipython3",
   "version": "3.9.6"
  }
 },
 "nbformat": 4,
 "nbformat_minor": 2
}
